{
 "cells": [
  {
   "cell_type": "markdown",
   "id": "2ed3fcb2",
   "metadata": {},
   "source": [
    "## Fashion Recommendation API Service"
   ]
  },
  {
   "cell_type": "markdown",
   "id": "78c51b69",
   "metadata": {},
   "source": [
    "#### Get recommendations based on input image and on input text. This API service hosts two endpoints to get recommendations\n",
    "               1. /recommend/text - For text input based recommendations\n",
    "               2. /recommend/image - For Image input based recommendations\n",
    "               \n",
    "               API Request Type  -> \"POST\" Method"
   ]
  },
  {
   "cell_type": "markdown",
   "id": "dd981790",
   "metadata": {},
   "source": [
    "#### Sample request to get Fashion recommendations based on Input Image: \n",
    "\n",
    "                    Endpoint: http://127.0.0.1:5000/recommend/image\n",
    "                    \n",
    "                    Raw json body sample: {\"search\":\"images/1163.jpg\"} \n",
    "                    \n",
    "       \n",
    "#### Sample request to get Fashion recommendations based on Input Text: \n",
    "\n",
    "                    Endpoint: http://127.0.0.1:5000/recommend/text\n",
    "                    \n",
    "                    Raw json body sample: {\"search\":\"shirt for Men\"}"
   ]
  },
  {
   "cell_type": "code",
   "execution_count": 1,
   "id": "85c66fdf",
   "metadata": {},
   "outputs": [],
   "source": [
    "from app import FashionApi"
   ]
  },
  {
   "cell_type": "code",
   "execution_count": 2,
   "id": "479188db",
   "metadata": {},
   "outputs": [],
   "source": [
    "fashionRecommendation=FashionApi()"
   ]
  },
  {
   "cell_type": "code",
   "execution_count": 3,
   "id": "d7ce4df5",
   "metadata": {},
   "outputs": [
    {
     "name": "stdout",
     "output_type": "stream",
     "text": [
      " * Serving Flask app 'app' (lazy loading)\n",
      " * Environment: production\n",
      "\u001b[31m   WARNING: This is a development server. Do not use it in a production deployment.\u001b[0m\n",
      "\u001b[2m   Use a production WSGI server instead.\u001b[0m\n",
      " * Debug mode: on\n"
     ]
    },
    {
     "name": "stderr",
     "output_type": "stream",
     "text": [
      " * Running on http://127.0.0.1:5000/ (Press CTRL+C to quit)\n",
      "127.0.0.1 - - [24/Feb/2023 23:26:44] \"POST /recommend/text HTTP/1.1\" 200 -\n",
      "127.0.0.1 - - [24/Feb/2023 23:27:01] \"POST /recommend/text HTTP/1.1\" 200 -\n"
     ]
    }
   ],
   "source": [
    "fashionRecommendation.start()"
   ]
  },
  {
   "cell_type": "code",
   "execution_count": null,
   "id": "292f684a",
   "metadata": {},
   "outputs": [],
   "source": []
  }
 ],
 "metadata": {
  "kernelspec": {
   "display_name": "Python 3 (ipykernel)",
   "language": "python",
   "name": "python3"
  },
  "language_info": {
   "codemirror_mode": {
    "name": "ipython",
    "version": 3
   },
   "file_extension": ".py",
   "mimetype": "text/x-python",
   "name": "python",
   "nbconvert_exporter": "python",
   "pygments_lexer": "ipython3",
   "version": "3.7.4"
  }
 },
 "nbformat": 4,
 "nbformat_minor": 5
}
