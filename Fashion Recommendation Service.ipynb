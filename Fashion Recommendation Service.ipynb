{
 "cells": [
  {
   "cell_type": "markdown",
   "id": "2ed3fcb2",
   "metadata": {},
   "source": [
    "## Fashion Recommendation API Service"
   ]
  },
  {
   "cell_type": "markdown",
   "id": "78c51b69",
   "metadata": {},
   "source": [
    "#### Get recommendations based on input image and on input text. This API service hosts two endpoints to get recommendations\n",
    "               1. /recommend/text - For text input based recommendations\n",
    "               2. /recommend/image - For Image input based recommendations\n",
    "               \n",
    "               API Request Type  -> \"POST\" Method"
   ]
  },
  {
   "cell_type": "markdown",
   "id": "dd981790",
   "metadata": {},
   "source": [
    "#### Sample request to get Fashion recommendations based on Input Image: \n",
    "\n",
    "                    Endpoint: http://127.0.0.1:5000/recommend/image\n",
    "                    \n",
    "                    Raw json body sample: {\"search\":\"images/1163.jpg\"} \n",
    "                    \n",
    "       \n",
    "#### Sample request to get Fashion recommendations based on Input Text: \n",
    "\n",
    "                    Endpoint: http://127.0.0.1:5000/recommend/text\n",
    "                    \n",
    "                    Raw json body sample: {\"search\":\"shirt for Men\"}"
   ]
  },
  {
   "cell_type": "code",
   "execution_count": null,
   "id": "85c66fdf",
   "metadata": {},
   "outputs": [],
   "source": [
    "from app import FashionApi"
   ]
  },
  {
   "cell_type": "code",
   "execution_count": null,
   "id": "479188db",
   "metadata": {},
   "outputs": [],
   "source": [
    "fashionRecommendation=FashionApi()"
   ]
  },
  {
   "cell_type": "code",
   "execution_count": null,
   "id": "d7ce4df5",
   "metadata": {},
   "outputs": [],
   "source": [
    "fashionRecommendation.start()"
   ]
  }
 ],
 "metadata": {
  "kernelspec": {
   "display_name": "Python 3 (ipykernel)",
   "language": "python",
   "name": "python3"
  },
  "language_info": {
   "codemirror_mode": {
    "name": "ipython",
    "version": 3
   },
   "file_extension": ".py",
   "mimetype": "text/x-python",
   "name": "python",
   "nbconvert_exporter": "python",
   "pygments_lexer": "ipython3",
   "version": "3.7.4"
  }
 },
 "nbformat": 4,
 "nbformat_minor": 5
}
