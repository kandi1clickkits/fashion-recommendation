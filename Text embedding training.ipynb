{
 "cells": [
  {
   "cell_type": "markdown",
   "metadata": {},
   "source": [
    "### Recommendation Engine Training"
   ]
  },
  {
   "cell_type": "code",
   "execution_count": 7,
   "metadata": {},
   "outputs": [],
   "source": [
    "from sentence_transformers import SentenceTransformer\n",
    "import pickle\n",
    "import csv"
   ]
  },
  {
   "cell_type": "code",
   "execution_count": 8,
   "metadata": {},
   "outputs": [],
   "source": [
    "INP_FILE_PATH=\"styles.csv\"\n",
    "n_rows = 20_000"
   ]
  },
  {
   "cell_type": "code",
   "execution_count": 9,
   "metadata": {},
   "outputs": [],
   "source": [
    "header =True\n",
    "list_prod_id = list(); list_prod_dispname = list(); list_prod_disp_name = list()\n",
    "with open(INP_FILE_PATH) as file:\n",
    "    rows = csv.reader(file)\n",
    "    for row in rows:\n",
    "        if header: header = False; continue\n",
    "        else:\n",
    "            list_prod_id.append(row[0])\n",
    "            list_prod_disp_name.append(row[9])\n",
    "            if row[2]==\"Apparel\":\n",
    "                list_prod_dispname.append(row[6]+\" \"+row[8]+\" \"+ row[9]+  \" and \"+  row[2] + \" for \" +row[1])\n",
    "            else:\n",
    "                list_prod_dispname.append(row[9]+ \" \"+ row[2] + \" and \"+  row[3] +\" for \" +row[1])"
   ]
  },
  {
   "cell_type": "code",
   "execution_count": 10,
   "metadata": {},
   "outputs": [],
   "source": [
    "list_prod_dispname = list(map(lambda x: x.strip().casefold(), list_prod_dispname))"
   ]
  },
  {
   "cell_type": "code",
   "execution_count": 11,
   "metadata": {},
   "outputs": [],
   "source": [
    "model = SentenceTransformer('paraphrase-MiniLM-L6-v2')"
   ]
  },
  {
   "cell_type": "code",
   "execution_count": 12,
   "metadata": {},
   "outputs": [
    {
     "data": {
      "application/vnd.jupyter.widget-view+json": {
       "model_id": "1d38332c66e84b459d4ff33f4ec7f658",
       "version_major": 2,
       "version_minor": 0
      },
      "text/plain": [
       "Batches:   0%|          | 0/625 [00:00<?, ?it/s]"
      ]
     },
     "metadata": {},
     "output_type": "display_data"
    }
   ],
   "source": [
    "text_embs = model.encode(list_prod_dispname[:n_rows], show_progress_bar=True)"
   ]
  },
  {
   "cell_type": "code",
   "execution_count": 13,
   "metadata": {},
   "outputs": [],
   "source": [
    "with open(\"models/model_fashion.pickle\", \"wb\") as file:\n",
    "    pickle.dump(text_embs, file)"
   ]
  },
  {
   "cell_type": "code",
   "execution_count": null,
   "metadata": {},
   "outputs": [],
   "source": []
  }
 ],
 "metadata": {
  "kernelspec": {
   "display_name": "Python 3",
   "language": "python",
   "name": "python3"
  },
  "language_info": {
   "codemirror_mode": {
    "name": "ipython",
    "version": 3
   },
   "file_extension": ".py",
   "mimetype": "text/x-python",
   "name": "python",
   "nbconvert_exporter": "python",
   "pygments_lexer": "ipython3",
   "version": "3.9.8"
  }
 },
 "nbformat": 4,
 "nbformat_minor": 4
}
